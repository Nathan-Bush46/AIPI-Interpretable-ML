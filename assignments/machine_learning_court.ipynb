{
  "cells": [
    {
      "cell_type": "markdown",
      "metadata": {
        "id": "view-in-github",
        "colab_type": "text"
      },
      "source": [
        "<a href=\"https://colab.research.google.com/github/Nathan-Bush46/AIPI-Interpretable-ML/blob/main/assignments/machine_learning_court.ipynb\" target=\"_parent\"><img src=\"https://colab.research.google.com/assets/colab-badge.svg\" alt=\"Open In Colab\"/></a>"
      ]
    },
    {
      "cell_type": "markdown",
      "id": "7yiVRowlRzxz",
      "metadata": {
        "id": "7yiVRowlRzxz"
      },
      "source": [
        "## ⚖️ Case 3: Recidivism Risk – COMPAS Dataset\n",
        "#### 🔍 Scenario\n",
        "Malik Johnson, a 27-year-old with one prior felony, was flagged as low risk by an AI risk assessment tool and granted parole. Some community stakeholders have questioned whether this was an appropriate classification.\n",
        "\n",
        "#### 🟥 Prosecution\n",
        "Examine whether the model may have underestimated risk factors. Use explanation techniques to uncover potential oversights or inconsistencies.\n",
        "\n",
        "#### 🟦 Defense\n",
        "Argue that the decision was reasonable based on the model's criteria. Use explanation tools to show which features were most influential and whether the classification aligns with data-driven patterns."
      ]
    },
    {
      "cell_type": "code",
      "execution_count": null,
      "id": "40c14573",
      "metadata": {
        "colab": {
          "base_uri": "https://localhost:8080/"
        },
        "id": "40c14573",
        "outputId": "f81c8826-dfae-4d4e-ec43-a6df8920600a"
      },
      "outputs": [
        {
          "name": "stdout",
          "output_type": "stream",
          "text": [
            "              precision    recall  f1-score   support\n",
            "\n",
            "           0       0.68      0.68      0.68       823\n",
            "           1       0.57      0.57      0.57       620\n",
            "\n",
            "    accuracy                           0.63      1443\n",
            "   macro avg       0.62      0.62      0.62      1443\n",
            "weighted avg       0.63      0.63      0.63      1443\n",
            "\n"
          ]
        }
      ],
      "source": [
        "# ⚖️ Case 3: Recidivism Prediction (COMPAS Dataset)\n",
        "\n",
        "import pandas as pd\n",
        "import numpy as np\n",
        "from sklearn.model_selection import train_test_split\n",
        "from sklearn.ensemble import RandomForestClassifier\n",
        "from sklearn.metrics import classification_report\n",
        "\n",
        "# Load dataset\n",
        "url = \"https://raw.githubusercontent.com/propublica/compas-analysis/master/compas-scores-two-years.csv\"\n",
        "df_compas = pd.read_csv(url)\n",
        "\n",
        "# Filter relevant columns and preprocess\n",
        "features = ['age', 'sex', 'race', 'priors_count', 'juv_fel_count', 'juv_misd_count', 'juv_other_count', 'c_charge_degree']\n",
        "df = df_compas[features + ['two_year_recid']].dropna()\n",
        "df = df[df['c_charge_degree'].isin(['F', 'M'])]  # Filter valid degrees\n",
        "\n",
        "# Encode categoricals\n",
        "df = df.copy()\n",
        "df['sex'] = df['sex'].astype('category').cat.codes\n",
        "df['race'] = df['race'].astype('category').cat.codes\n",
        "df['c_charge_degree'] = df['c_charge_degree'].astype('category').cat.codes\n",
        "\n",
        "X = df[features]\n",
        "y = df['two_year_recid']\n",
        "\n",
        "X_train, X_test, y_train, y_test = train_test_split(X, y, test_size=0.2, random_state=42)\n",
        "\n",
        "model_compas = RandomForestClassifier(random_state=42)\n",
        "model_compas.fit(X_train, y_train)\n",
        "print(classification_report(y_test, model_compas.predict(X_test)))\n"
      ]
    },
    {
      "cell_type": "code",
      "execution_count": null,
      "id": "fc902cdf",
      "metadata": {
        "colab": {
          "base_uri": "https://localhost:8080/"
        },
        "id": "fc902cdf",
        "outputId": "6a1da0dc-4ea4-47b3-e228-e20ebe341600"
      },
      "outputs": [
        {
          "name": "stdout",
          "output_type": "stream",
          "text": [
            "Prediction for Malik Johnson (Recidivism): [0]\n"
          ]
        }
      ],
      "source": [
        "# 🎯 Focus Instance: Recidivism Risk Case (Malik Johnson)\n",
        "focus_instance_compas = pd.DataFrame([{\n",
        "    \"age\": 27,\n",
        "    \"sex\": 1,  # Male\n",
        "    \"race\": 1,  # African-American\n",
        "    \"priors_count\": 1,\n",
        "    \"juv_fel_count\": 0,\n",
        "    \"juv_misd_count\": 0,\n",
        "    \"juv_other_count\": 0,\n",
        "    \"c_charge_degree\": 1  # Felony\n",
        "}])\n",
        "\n",
        "pred = model_compas.predict(focus_instance_compas)\n",
        "print(\"Prediction for Malik Johnson (Recidivism):\", pred)\n"
      ]
    }
  ],
  "metadata": {
    "colab": {
      "provenance": [],
      "include_colab_link": true
    },
    "kernelspec": {
      "display_name": "Python 3",
      "name": "python3"
    },
    "language_info": {
      "name": "python"
    }
  },
  "nbformat": 4,
  "nbformat_minor": 5
}